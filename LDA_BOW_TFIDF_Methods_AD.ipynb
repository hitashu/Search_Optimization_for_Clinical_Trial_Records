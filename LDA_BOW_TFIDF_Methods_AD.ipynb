{
  "nbformat": 4,
  "nbformat_minor": 0,
  "metadata": {
    "colab": {
      "name": "USML-LDA and TDIDF",
      "provenance": []
    },
    "kernelspec": {
      "name": "python3",
      "display_name": "Python 3"
    }
  },
  "cells": [
    {
      "cell_type": "code",
      "metadata": {
        "id": "5_qd_S7TaEdS",
        "colab_type": "code",
        "colab": {
          "base_uri": "https://localhost:8080/",
          "height": 121
        },
        "outputId": "1c5b917c-eac9-4056-82e4-8b3b1c7c0691"
      },
      "source": [
        "#Mounting gdrive if working on gdrive\n",
        "from google.colab import drive\n",
        "drive.mount('/content/gdrive')"
      ],
      "execution_count": 1,
      "outputs": [
        {
          "output_type": "stream",
          "text": [
            "Go to this URL in a browser: https://accounts.google.com/o/oauth2/auth?client_id=947318989803-6bn6qk8qdgf4n4g3pfee6491hc0brc4i.apps.googleusercontent.com&redirect_uri=urn%3aietf%3awg%3aoauth%3a2.0%3aoob&response_type=code&scope=email%20https%3a%2f%2fwww.googleapis.com%2fauth%2fdocs.test%20https%3a%2f%2fwww.googleapis.com%2fauth%2fdrive%20https%3a%2f%2fwww.googleapis.com%2fauth%2fdrive.photos.readonly%20https%3a%2f%2fwww.googleapis.com%2fauth%2fpeopleapi.readonly\n",
            "\n",
            "Enter your authorization code:\n",
            "··········\n",
            "Mounted at /content/gdrive\n"
          ],
          "name": "stdout"
        }
      ]
    },
    {
      "cell_type": "code",
      "metadata": {
        "id": "dSDAGpwxaVza",
        "colab_type": "code",
        "colab": {}
      },
      "source": [
        "import pandas as pd\n",
        "import gensim\n",
        "from gensim.utils import simple_preprocess\n",
        "from gensim.parsing.preprocessing import STOPWORDS\n",
        "from nltk.stem import WordNetLemmatizer, SnowballStemmer\n",
        "from nltk.stem.porter import *\n",
        "import numpy as np\n",
        "np.random.seed(16)\n",
        "from gensim import corpora, models\n",
        "from pprint import pprint"
      ],
      "execution_count": 4,
      "outputs": []
    },
    {
      "cell_type": "code",
      "metadata": {
        "id": "kkbg_wbTaX27",
        "colab_type": "code",
        "colab": {
          "base_uri": "https://localhost:8080/",
          "height": 67
        },
        "outputId": "4b0f4777-03ab-46ca-fca0-a82dd86ad796"
      },
      "source": [
        " import nltk\n",
        "nltk.download('wordnet')"
      ],
      "execution_count": 5,
      "outputs": [
        {
          "output_type": "stream",
          "text": [
            "[nltk_data] Downloading package wordnet to /root/nltk_data...\n",
            "[nltk_data]   Unzipping corpora/wordnet.zip.\n"
          ],
          "name": "stdout"
        },
        {
          "output_type": "execute_result",
          "data": {
            "text/plain": [
              "True"
            ]
          },
          "metadata": {
            "tags": []
          },
          "execution_count": 5
        }
      ]
    },
    {
      "cell_type": "code",
      "metadata": {
        "id": "n8JkzexDah5K",
        "colab_type": "code",
        "colab": {}
      },
      "source": [
        "\n",
        "# Load Data\n",
        "project_home = \"/content/gdrive/My Drive/USML Project\"\n",
        "records_data = pd.read_csv(os.path.join(project_home, \"all_trials.csv\"))\n",
        "mesh_data = pd.read_csv(os.path.join(project_home, \"MESH_Terms_v2.csv\"))\n",
        "punc ='!\"#$%&\\'()*+,./:;<=>?@[\\\\]^`{|}~'"
      ],
      "execution_count": 6,
      "outputs": []
    },
    {
      "cell_type": "code",
      "metadata": {
        "id": "FRUv4py3aoHq",
        "colab_type": "code",
        "colab": {}
      },
      "source": [
        "# Process clinical records data\n",
        "records_data = records_data[['id','title','brief_summary','detailed_description']] # Subset columns\n",
        "records_data = records_data.replace(np.nan, '', regex=True) # Replace Null values with empty strings\n",
        "records_data['article'] = records_data['title'].str.cat(records_data['brief_summary'], sep=\" \").str.cat(records_data['detailed_description'], sep=\" \") # Create Concatenated text using all data\n",
        "records_data = records_data.drop(['title','brief_summary','detailed_description'], axis=1)\n",
        "records_data['article'] = records_data['article'].str.lower()   ## lower case\n",
        "records_data.article =  records_data.article.str.translate(str.maketrans('','',punc))   # Remove punctuations except '-', '_'\n",
        "records_data.article =  records_data.article.str.strip()    # Remove whitespaces\n"
      ],
      "execution_count": 9,
      "outputs": []
    },
    {
      "cell_type": "code",
      "metadata": {
        "id": "WSqbP-a4asFF",
        "colab_type": "code",
        "colab": {
          "base_uri": "https://localhost:8080/",
          "height": 343
        },
        "outputId": "9e676309-584b-416d-ee2a-984b8fc7ac2d"
      },
      "source": [
        "records_data[:10]"
      ],
      "execution_count": 10,
      "outputs": [
        {
          "output_type": "execute_result",
          "data": {
            "text/html": [
              "<div>\n",
              "<style scoped>\n",
              "    .dataframe tbody tr th:only-of-type {\n",
              "        vertical-align: middle;\n",
              "    }\n",
              "\n",
              "    .dataframe tbody tr th {\n",
              "        vertical-align: top;\n",
              "    }\n",
              "\n",
              "    .dataframe thead th {\n",
              "        text-align: right;\n",
              "    }\n",
              "</style>\n",
              "<table border=\"1\" class=\"dataframe\">\n",
              "  <thead>\n",
              "    <tr style=\"text-align: right;\">\n",
              "      <th></th>\n",
              "      <th>id</th>\n",
              "      <th>article</th>\n",
              "    </tr>\n",
              "  </thead>\n",
              "  <tbody>\n",
              "    <tr>\n",
              "      <th>0</th>\n",
              "      <td>NCT03260985</td>\n",
              "      <td>precision psychiatry continuity clinic project...</td>\n",
              "    </tr>\n",
              "    <tr>\n",
              "      <th>1</th>\n",
              "      <td>NCT03268473</td>\n",
              "      <td>effect of non-surgical periodontal treatment o...</td>\n",
              "    </tr>\n",
              "    <tr>\n",
              "      <th>2</th>\n",
              "      <td>NCT03262610</td>\n",
              "      <td>expanded-access for the use of setemelanotide ...</td>\n",
              "    </tr>\n",
              "    <tr>\n",
              "      <th>3</th>\n",
              "      <td>NCT03264261</td>\n",
              "      <td>constraint induced movement therapy for walkin...</td>\n",
              "    </tr>\n",
              "    <tr>\n",
              "      <th>4</th>\n",
              "      <td>NCT03267797</td>\n",
              "      <td>intrauterine administration of autologous hcg-...</td>\n",
              "    </tr>\n",
              "    <tr>\n",
              "      <th>5</th>\n",
              "      <td>NCT03260946</td>\n",
              "      <td>the use of complementary medicine in palliativ...</td>\n",
              "    </tr>\n",
              "    <tr>\n",
              "      <th>6</th>\n",
              "      <td>NCT03269786</td>\n",
              "      <td>laoboratory and ultrasonographic changes after...</td>\n",
              "    </tr>\n",
              "    <tr>\n",
              "      <th>7</th>\n",
              "      <td>NCT03260205</td>\n",
              "      <td>a phase 3 randomized double-blind multicenter ...</td>\n",
              "    </tr>\n",
              "    <tr>\n",
              "      <th>8</th>\n",
              "      <td>NCT03263650</td>\n",
              "      <td>randomized phase ii study of olaparib maintena...</td>\n",
              "    </tr>\n",
              "    <tr>\n",
              "      <th>9</th>\n",
              "      <td>NCT03269396</td>\n",
              "      <td>a prospective nonrandomized study of laryngeal...</td>\n",
              "    </tr>\n",
              "  </tbody>\n",
              "</table>\n",
              "</div>"
            ],
            "text/plain": [
              "            id                                            article\n",
              "0  NCT03260985  precision psychiatry continuity clinic project...\n",
              "1  NCT03268473  effect of non-surgical periodontal treatment o...\n",
              "2  NCT03262610  expanded-access for the use of setemelanotide ...\n",
              "3  NCT03264261  constraint induced movement therapy for walkin...\n",
              "4  NCT03267797  intrauterine administration of autologous hcg-...\n",
              "5  NCT03260946  the use of complementary medicine in palliativ...\n",
              "6  NCT03269786  laoboratory and ultrasonographic changes after...\n",
              "7  NCT03260205  a phase 3 randomized double-blind multicenter ...\n",
              "8  NCT03263650  randomized phase ii study of olaparib maintena...\n",
              "9  NCT03269396  a prospective nonrandomized study of laryngeal..."
            ]
          },
          "metadata": {
            "tags": []
          },
          "execution_count": 10
        }
      ]
    },
    {
      "cell_type": "code",
      "metadata": {
        "id": "e-HrbHGVa6V6",
        "colab_type": "code",
        "colab": {}
      },
      "source": [
        "# Lemmatizing function for inputted text.\n",
        "def lemmatize_stemming(text):\n",
        "    return stemmer.stem(WordNetLemmatizer().lemmatize(text, pos='v'))"
      ],
      "execution_count": 11,
      "outputs": []
    },
    {
      "cell_type": "code",
      "metadata": {
        "id": "xugZy8WebDxh",
        "colab_type": "code",
        "colab": {}
      },
      "source": [
        "# Preprocessing steps after tokenization of document text.\n",
        "def preprocess(text):\n",
        "    result = []\n",
        "    for token in gensim.utils.simple_preprocess(text):\n",
        "        if token not in gensim.parsing.preprocessing.STOPWORDS and len(token) > 3:\n",
        "            result.append(lemmatize_stemming(token))\n",
        "    return result"
      ],
      "execution_count": 12,
      "outputs": []
    },
    {
      "cell_type": "code",
      "metadata": {
        "id": "9oOeZ5PxbFOF",
        "colab_type": "code",
        "colab": {
          "base_uri": "https://localhost:8080/",
          "height": 34
        },
        "outputId": "a1f44a67-d4e7-42de-b71c-177e2be5bee4"
      },
      "source": [
        "\n",
        "print('Loading Snowball Stemmer into memory.')\n",
        "stemmer = SnowballStemmer('english')"
      ],
      "execution_count": 13,
      "outputs": [
        {
          "output_type": "stream",
          "text": [
            "Loading Snowball Stemmer into memory.\n"
          ],
          "name": "stdout"
        }
      ]
    },
    {
      "cell_type": "code",
      "metadata": {
        "id": "IJh4TYoXbhMR",
        "colab_type": "code",
        "colab": {}
      },
      "source": [
        "processed_docs = records_data['article'].map(preprocess)"
      ],
      "execution_count": 14,
      "outputs": []
    },
    {
      "cell_type": "code",
      "metadata": {
        "id": "8pFeiWuRbloH",
        "colab_type": "code",
        "colab": {
          "base_uri": "https://localhost:8080/",
          "height": 202
        },
        "outputId": "cf3e5e14-dfe1-4faf-a760-71a8e410b003"
      },
      "source": [
        "processed_docs[:10]"
      ],
      "execution_count": 16,
      "outputs": [
        {
          "output_type": "execute_result",
          "data": {
            "text/plain": [
              "0    [precis, psychiatri, continu, clinic, project,...\n",
              "1    [effect, surgic, periodont, treatment, oxid, s...\n",
              "2    [expand, access, setemelanotid, singl, patient...\n",
              "3    [constraint, induc, movement, therapi, walk, i...\n",
              "4    [intrauterin, administr, autolog, activ, perip...\n",
              "5    [complementari, medicin, care, centr, lyon, fr...\n",
              "6    [laoboratori, chang, endoscop, varisc, treatme...\n",
              "7    [phase, random, doubl, blind, multicent, paral...\n",
              "8    [random, phase, studi, olaparib, mainten, foll...\n",
              "9    [prospect, nonrandom, studi, laryng, allograft...\n",
              "Name: article, dtype: object"
            ]
          },
          "metadata": {
            "tags": []
          },
          "execution_count": 16
        }
      ]
    },
    {
      "cell_type": "code",
      "metadata": {
        "id": "ISP0Kemqbq2I",
        "colab_type": "code",
        "colab": {}
      },
      "source": [
        "#Create Bag of Words\n",
        "dictionary = gensim.corpora.Dictionary(processed_docs)"
      ],
      "execution_count": 17,
      "outputs": []
    },
    {
      "cell_type": "code",
      "metadata": {
        "id": "CgSUU1PLgNBQ",
        "colab_type": "code",
        "colab": {
          "base_uri": "https://localhost:8080/",
          "height": 202
        },
        "outputId": "5400ade7-af99-4195-96c0-4bf7f8aff13e"
      },
      "source": [
        "#View the dictionary\n",
        "count = 0\n",
        "for k, v in dictionary.iteritems():\n",
        "    print(k, v)\n",
        "    count += 1\n",
        "    if count > 10:\n",
        "        break"
      ],
      "execution_count": 18,
      "outputs": [
        {
          "output_type": "stream",
          "text": [
            "0 appli\n",
            "1 assess\n",
            "2 care\n",
            "3 clinic\n",
            "4 conclus\n",
            "5 continu\n",
            "6 decis\n",
            "7 demonstr\n",
            "8 effect\n",
            "9 evalu\n",
            "10 explor\n"
          ],
          "name": "stdout"
        }
      ]
    },
    {
      "cell_type": "code",
      "metadata": {
        "id": "LPyp_om2gV5Z",
        "colab_type": "code",
        "colab": {}
      },
      "source": [
        "#Filter out the extremities\n",
        "dictionary.filter_extremes(no_below=15, no_above=0.5, keep_n=100000)"
      ],
      "execution_count": 21,
      "outputs": []
    },
    {
      "cell_type": "code",
      "metadata": {
        "id": "H7iEOlCugos3",
        "colab_type": "code",
        "colab": {
          "base_uri": "https://localhost:8080/",
          "height": 34
        },
        "outputId": "e3737d1d-5701-4c5e-97b5-b4e1aef51dc4"
      },
      "source": [
        "len(dictionary)"
      ],
      "execution_count": 22,
      "outputs": [
        {
          "output_type": "execute_result",
          "data": {
            "text/plain": [
              "24775"
            ]
          },
          "metadata": {
            "tags": []
          },
          "execution_count": 22
        }
      ]
    },
    {
      "cell_type": "code",
      "metadata": {
        "id": "mKqUfm1pgzRU",
        "colab_type": "code",
        "colab": {}
      },
      "source": [
        "bow_corpus = [dictionary.doc2bow(doc) for doc in processed_docs]"
      ],
      "execution_count": 23,
      "outputs": []
    },
    {
      "cell_type": "code",
      "metadata": {
        "id": "LKi7BOKwhJkL",
        "colab_type": "code",
        "colab": {}
      },
      "source": [
        "test=bow_corpus[200000]\n"
      ],
      "execution_count": 26,
      "outputs": []
    },
    {
      "cell_type": "code",
      "metadata": {
        "id": "ouMO47uehYE5",
        "colab_type": "code",
        "colab": {
          "base_uri": "https://localhost:8080/",
          "height": 941
        },
        "outputId": "8481049b-9833-4d6f-9e07-0c936a3d59ef"
      },
      "source": [
        "for i in range(len(test)):\n",
        "    print((test[i][0], dictionary[test[i][0]],test[i][1]))\n"
      ],
      "execution_count": 32,
      "outputs": [
        {
          "output_type": "stream",
          "text": [
            "(2, 'care', 1)\n",
            "(3, 'clinic', 1)\n",
            "(25, 'outcom', 1)\n",
            "(36, 'set', 1)\n",
            "(76, 'object', 1)\n",
            "(97, 'treatment', 6)\n",
            "(103, 'despit', 1)\n",
            "(121, 'sever', 1)\n",
            "(122, 'singl', 1)\n",
            "(127, 'collect', 2)\n",
            "(129, 'conduct', 1)\n",
            "(131, 'data', 2)\n",
            "(135, 'follow', 3)\n",
            "(147, 'post', 1)\n",
            "(161, 'undergo', 2)\n",
            "(162, 'visit', 1)\n",
            "(164, 'week', 3)\n",
            "(195, 'enrol', 1)\n",
            "(230, 'observ', 1)\n",
            "(259, 'year', 2)\n",
            "(263, 'characterist', 1)\n",
            "(361, 'mainten', 1)\n",
            "(370, 'particip', 1)\n",
            "(374, 'procedur', 3)\n",
            "(389, 'standard', 1)\n",
            "(390, 'start', 1)\n",
            "(395, 'take', 1)\n",
            "(427, 'option', 1)\n",
            "(429, 'prospect', 1)\n",
            "(452, 'experi', 1)\n",
            "(482, 'primari', 2)\n",
            "(520, 'center', 1)\n",
            "(537, 'date', 2)\n",
            "(586, 'offer', 1)\n",
            "(609, 'remain', 1)\n",
            "(665, 'label', 1)\n",
            "(671, 'medic', 1)\n",
            "(680, 'open', 1)\n",
            "(692, 'sit', 1)\n",
            "(727, 'recruit', 1)\n",
            "(829, 'demograph', 1)\n",
            "(878, 'proport', 1)\n",
            "(1014, 'complet', 1)\n",
            "(1080, 'endpoint', 1)\n",
            "(1084, 'global', 2)\n",
            "(1201, 'period', 2)\n",
            "(1372, 'real', 2)\n",
            "(1423, 'world', 2)\n",
            "(1959, 'approxim', 1)\n",
            "(2136, 'asthma', 2)\n",
            "(2316, 'exacerb', 1)\n",
            "(2507, 'symptomat', 1)\n",
            "(2810, 'registri', 5)\n",
            "(5218, 'bronchial', 2)\n",
            "(11869, 'thermoplasti', 2)\n"
          ],
          "name": "stdout"
        }
      ]
    },
    {
      "cell_type": "code",
      "metadata": {
        "id": "TH0_4hXKhvNC",
        "colab_type": "code",
        "colab": {}
      },
      "source": [
        "#Apply TF-IDF oin the corpus\n",
        "tfidf = models.TfidfModel(bow_corpus)\n",
        "corpus_tfidf = tfidf[bow_corpus]"
      ],
      "execution_count": 33,
      "outputs": []
    },
    {
      "cell_type": "code",
      "metadata": {
        "id": "7roR5IT5irc8",
        "colab_type": "code",
        "colab": {
          "base_uri": "https://localhost:8080/",
          "height": 34
        },
        "outputId": "4440b2da-0ac4-4f76-91c9-23a47a842410"
      },
      "source": [
        "len(corpus_tfidf)"
      ],
      "execution_count": 35,
      "outputs": [
        {
          "output_type": "execute_result",
          "data": {
            "text/plain": [
              "345092"
            ]
          },
          "metadata": {
            "tags": []
          },
          "execution_count": 35
        }
      ]
    },
    {
      "cell_type": "code",
      "metadata": {
        "id": "awoK0Ozci3Fs",
        "colab_type": "code",
        "colab": {
          "base_uri": "https://localhost:8080/",
          "height": 54
        },
        "outputId": "022f6f73-6123-4071-eafe-33c4560a70fb"
      },
      "source": [
        "for doc in corpus_tfidf:\n",
        "    print(doc)\n",
        "    break"
      ],
      "execution_count": 37,
      "outputs": [
        {
          "output_type": "stream",
          "text": [
            "[(0, 0.08527146848753085), (1, 0.15043412904256084), (2, 0.10344577646577482), (3, 0.10766584752082192), (4, 0.13134472972911782), (5, 0.06123126926612932), (6, 0.10112047292689721), (7, 0.06989223062952193), (8, 0.02193960522638496), (9, 0.02313670025803864), (10, 0.08492130068382295), (11, 0.12317203920189113), (12, 0.08453739613866441), (13, 0.04913367677791193), (14, 0.0689140602355573), (15, 0.06684411196817518), (16, 0.08701166469691637), (17, 0.035672468286213184), (18, 0.08643156552624488), (19, 0.11003886114099984), (20, 0.13292861770255532), (21, 0.10113112242897473), (22, 0.031025254349011096), (23, 0.05931810939375318), (24, 0.7663631483416522), (25, 0.09175633982148544), (26, 0.07172225055126039), (27, 0.07244126895671481), (28, 0.1544744757278883), (29, 0.1249625358134768), (30, 0.14788561689853016), (31, 0.04973512713636691), (32, 0.12596240353976665), (33, 0.1804050628421558), (34, 0.13673404099384495), (35, 0.05097387344214872), (36, 0.07849821831131971), (37, 0.1295952311053434), (38, 0.09216418113713236), (39, 0.06366265475341704), (40, 0.12144719965800398), (41, 0.030272796158011855), (42, 0.1337659186734703)]\n"
          ],
          "name": "stdout"
        }
      ]
    },
    {
      "cell_type": "code",
      "metadata": {
        "id": "iiD1_HRnjsDL",
        "colab_type": "code",
        "colab": {
          "base_uri": "https://localhost:8080/",
          "height": 50
        },
        "outputId": "fcf5d4f7-a9b0-4657-a6d4-5c7a951d9c47"
      },
      "source": [
        "#Training LDA model using the Bag of Words:\n",
        "lda_model = gensim.models.LdaMulticore(bow_corpus, id2word=dictionary, passes=2, workers=2)"
      ],
      "execution_count": null,
      "outputs": [
        {
          "output_type": "stream",
          "text": [
            "/usr/local/lib/python3.6/dist-packages/gensim/models/ldamodel.py:1023: RuntimeWarning: divide by zero encountered in log\n",
            "  diff = np.log(self.expElogbeta)\n"
          ],
          "name": "stderr"
        }
      ]
    },
    {
      "cell_type": "code",
      "metadata": {
        "id": "QFgTHV1zkm3e",
        "colab_type": "code",
        "colab": {}
      },
      "source": [
        "lda_model_tfidf = gensim.models.LdaMulticore(corpus_tfidf, id2word=dictionary, passes=2, workers=4)"
      ],
      "execution_count": null,
      "outputs": []
    },
    {
      "cell_type": "code",
      "metadata": {
        "id": "TQvcYt4zkrgL",
        "colab_type": "code",
        "colab": {}
      },
      "source": [
        ""
      ],
      "execution_count": null,
      "outputs": []
    }
  ]
}